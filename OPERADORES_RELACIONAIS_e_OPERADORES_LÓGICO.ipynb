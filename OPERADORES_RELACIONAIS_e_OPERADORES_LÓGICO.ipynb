{
  "nbformat": 4,
  "nbformat_minor": 0,
  "metadata": {
    "colab": {
      "provenance": [],
      "authorship_tag": "ABX9TyP/Hp+Wl/FVqJ/UllDEHD+8",
      "include_colab_link": true
    },
    "kernelspec": {
      "name": "python3",
      "display_name": "Python 3"
    },
    "language_info": {
      "name": "python"
    }
  },
  "cells": [
    {
      "cell_type": "markdown",
      "metadata": {
        "id": "view-in-github",
        "colab_type": "text"
      },
      "source": [
        "<a href=\"https://colab.research.google.com/github/Ro-Cari/FATEC_Python/blob/main/OPERADORES_RELACIONAIS_e_OPERADORES_L%C3%93GICO.ipynb\" target=\"_parent\"><img src=\"https://colab.research.google.com/assets/colab-badge.svg\" alt=\"Open In Colab\"/></a>"
      ]
    },
    {
      "cell_type": "code",
      "execution_count": null,
      "metadata": {
        "colab": {
          "base_uri": "https://localhost:8080/"
        },
        "id": "WHSZowTBL2LO",
        "outputId": "d93b4405-d31b-4d71-87ca-be908aacd2dc"
      },
      "outputs": [
        {
          "output_type": "stream",
          "name": "stdout",
          "text": [
            "a igual que b -  False\n",
            "a diferente a b -  True\n",
            "a maior que b -  True\n",
            "a menor e igual que b -  True\n",
            "a maior e igual que b -  True\n",
            "\n",
            "Complemento de true =  False\n",
            "Complemento de False =  True\n",
            "\n",
            "True and False =  True\n",
            "True and False =  False\n",
            "False and False  False\n",
            "\n",
            "True or False =  True\n",
            "True or False =  True\n",
            "False or False  False\n"
          ]
        }
      ],
      "source": [
        "# OPERADORES RELACIONAIS\n",
        "\n",
        "a = 1\n",
        "\n",
        "b = 2\n",
        "\n",
        "c = 3\n",
        "\n",
        "print(\"a igual que b - \", a==b)\n",
        "print(\"a diferente a b - \", a != b)\n",
        "print(\"a maior que b - \", b > a)\n",
        "print(\"a menor e igual que b - \", a <= b)\n",
        "print(\"a maior e igual que b - \", c >= b)\n",
        "\n",
        "\n",
        "# OPERADORES LÓGICO\n",
        "\n",
        "V = True\n",
        "F = False\n",
        "\n",
        "print(\"\\nComplemento de true = \", not V)\n",
        "print(\"Complemento de False = \", not F)\n",
        "\n",
        "print(\"\\nTrue and True = \", V and V)\n",
        "print(\"True and False = \", V and F)\n",
        "print(\"False and False \", F and F)\n",
        "\n",
        "print(\"\\nTrue or True = \", V or V)\n",
        "print(\"True or False = \", V or F)\n",
        "print(\"False or False \", F or F)"
      ]
    }
  ]
}