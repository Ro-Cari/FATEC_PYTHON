{
  "nbformat": 4,
  "nbformat_minor": 0,
  "metadata": {
    "colab": {
      "provenance": [],
      "authorship_tag": "ABX9TyM2LBi//wH55dIZVbACUHDT",
      "include_colab_link": true
    },
    "kernelspec": {
      "name": "python3",
      "display_name": "Python 3"
    },
    "language_info": {
      "name": "python"
    }
  },
  "cells": [
    {
      "cell_type": "markdown",
      "metadata": {
        "id": "view-in-github",
        "colab_type": "text"
      },
      "source": [
        "<a href=\"https://colab.research.google.com/github/Ro-Cari/FATEC_Python/blob/main/Exercicio_7_(Compras_Supermercado).ipynb\" target=\"_parent\"><img src=\"https://colab.research.google.com/assets/colab-badge.svg\" alt=\"Open In Colab\"/></a>"
      ]
    },
    {
      "cell_type": "code",
      "execution_count": null,
      "metadata": {
        "colab": {
          "base_uri": "https://localhost:8080/"
        },
        "id": "6kvFf1ewj5Md",
        "outputId": "8d979d92-38be-44a8-b56d-638d17863b4b"
      },
      "outputs": [
        {
          "output_type": "stream",
          "name": "stdout",
          "text": [
            "VALORES DOS PRODUTOS\n",
            "\n",
            "Valor do Arroz (kg): 1\n",
            "Valor do feijão (kg): 1\n",
            "Valor da açucar (kg): 1\n",
            "Valor da batata (kg): 1\n",
            "Valor do óleo (litro): 1\n",
            "Valor da bolacha de água e sal (pacote): 1\n",
            "Valor da bolacha maizena: (pacote) 1\n",
            "Valor da dúzia banana: 1\n",
            "Valor da couve flor (maço): 1\n",
            "Valor do leite me pó (lata): 1\n",
            "\n",
            "COMPRAS DE SUPERMERCADO\n",
            "\n",
            "5 kilo de arroz:  5.0\n",
            "3 kilos de feijão:  3.0\n",
            "2 kilos de açucar:  2.0\n",
            "3 kilos de batata:  3.0\n",
            "5 litros de óleo:  5.0\n",
            "1 pacote de bolacha de água e sal:  1.0\n",
            "1 pacote de bolacha maizena:  1.0\n",
            "1 dúzia e meia de banana:  1.5\n",
            "2 maços de couve-flor:  2.0\n",
            "2 latas de leite em pó:  2.0\n",
            "\n",
            "Total da Compra:  25.5\n",
            "\n",
            "Pagamento em dinheiro.\n"
          ]
        }
      ],
      "source": [
        "'''\n",
        "7. Em uma compra de supermercado, foram adquiridos os seguintes itens e quantidades:\n",
        "- Arroz → 5kg;\n",
        "- Feijão → 3kg;\n",
        "- Açúcar → 2kg;\n",
        "- Batata → 3kg;\n",
        "- Óleo → 5 litros;\n",
        "- Bolacha de Água e Sal → 1 pacote;\n",
        "- Bolacha de Maizena → 1 pacote;\n",
        "- Banana → 1 dúzia e meia;\n",
        "- Couve-Flor → 2 maços;\n",
        "- Leite em Pó → 2 latas de 1kg;\n",
        "→ Criar código em Python para inserir os preços por unidade de cada item das compras e depois mostrar estes preços no console;\n",
        "→ Calcular o preço total para cada item em função das quantidades, e mostrá-los no console;\n",
        "→ Calcular o preço total da compra e mostrá-lo no console;\n",
        "→ Estabelecer um limite de preço para o total da compra;\n",
        "→ Se o preço da compra for inferior ao limite estabelecido; imprimir no console: “pagamento em dinheiro”;\n",
        "→ Se o preço da compra for superior ao limite estabelecido; imprimir no console: “pagamento em parcelas com uso de cartão”.\n",
        "'''\n",
        "\n",
        "print(\"VALORES DOS PRODUTOS\")\n",
        "\n",
        "qtd_arroz = 5\n",
        "qtd_feijao = 3\n",
        "qtd_acucar = 2\n",
        "qtd_batata = 3\n",
        "qtd_oleo = 5\n",
        "qtd_bolacha_de_agua_e_sal = 1\n",
        "qtd_bolacha_maizena = 1\n",
        "qtd_banana = 1.5\n",
        "qtd_couve_flor = 2\n",
        "qtd_leite_em_po = 2\n",
        "\n",
        "arroz = float(input(\"\\nValor do Arroz (kg): \"))\n",
        "feijao = float(input(\"Valor do feijão (kg): \"))\n",
        "acucar = float(input(\"Valor da açucar (kg): \"))\n",
        "batata = float(input(\"Valor da batata (kg): \"))\n",
        "oleo = float(input(\"Valor do óleo (litro): \"))\n",
        "bolacha_de_agua_e_sal = float(input(\"Valor da bolacha de água e sal (pacote): \"))\n",
        "bolacha_maizena = float(input(\"Valor da bolacha maizena: (pacote) \"))\n",
        "banana = float(input(\"Valor da dúzia banana: \"))\n",
        "couve_flor = float(input(\"Valor da couve flor (maço): \"))\n",
        "leite_em_po = float(input(\"Valor do leite me pó (lata): \"))\n",
        "\n",
        "\n",
        "print(\"\\nCOMPRAS DE SUPERMERCADO\")\n",
        "arroz = arroz*qtd_arroz\n",
        "print(\"\\n5 kilo de arroz: \",arroz)\n",
        "feijao = feijao * qtd_feijao \n",
        "print(\"3 kilos de feijão: \",feijao)\n",
        "acucar = acucar * qtd_acucar\n",
        "print(\"2 kilos de açucar: \",acucar)\n",
        "batata = batata * qtd_batata\n",
        "print(\"3 kilos de batata: \",batata)\n",
        "oleo = oleo * qtd_oleo\n",
        "print(\"5 litros de óleo: \",oleo)\n",
        "bolacha_de_agua_e_sal = bolacha_de_agua_e_sal * qtd_bolacha_de_agua_e_sal \n",
        "print(\"1 pacote de bolacha de água e sal: \", bolacha_de_agua_e_sal)\n",
        "bolacha_maizena = bolacha_maizena * qtd_bolacha_maizena\n",
        "print(\"1 pacote de bolacha maizena: \", bolacha_maizena)\n",
        "banana = banana * qtd_banana\n",
        "print(\"1 dúzia e meia de banana: \", banana)\n",
        "couve_flor = couve_flor * qtd_couve_flor\n",
        "print(\"2 maços de couve-flor: \", couve_flor)\n",
        "leite_em_po = leite_em_po * qtd_leite_em_po\n",
        "print(\"2 latas de leite em pó: \", leite_em_po)\n",
        "\n",
        "total_compra = (arroz + feijao + acucar + batata + oleo + bolacha_de_agua_e_sal + bolacha_maizena + banana + couve_flor + leite_em_po)\n",
        "\n",
        "print(\"\\nTotal da Compra: \", total_compra)\n",
        "\n",
        "if total_compra < 100:\n",
        "  print('\\nPagamento em dinheiro.')\n",
        "else:\n",
        "  print('\\nPagamento em parcelas com uso de cartão')\n",
        "\n"
      ]
    },
    {
      "cell_type": "code",
      "source": [],
      "metadata": {
        "id": "Wx77T9ss1RPd"
      },
      "execution_count": null,
      "outputs": []
    }
  ]
}