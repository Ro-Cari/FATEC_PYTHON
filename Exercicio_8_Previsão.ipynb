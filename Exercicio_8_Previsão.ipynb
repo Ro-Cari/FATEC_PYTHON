{
  "nbformat": 4,
  "nbformat_minor": 0,
  "metadata": {
    "colab": {
      "provenance": [],
      "authorship_tag": "ABX9TyNuSSKj+PWYEczezkZ122lD",
      "include_colab_link": true
    },
    "kernelspec": {
      "name": "python3",
      "display_name": "Python 3"
    },
    "language_info": {
      "name": "python"
    },
    "accelerator": "GPU",
    "gpuClass": "standard"
  },
  "cells": [
    {
      "cell_type": "markdown",
      "metadata": {
        "id": "view-in-github",
        "colab_type": "text"
      },
      "source": [
        "<a href=\"https://colab.research.google.com/github/Ro-Cari/FATEC_Python/blob/main/Exercicio_8_Previs%C3%A3o.ipynb\" target=\"_parent\"><img src=\"https://colab.research.google.com/assets/colab-badge.svg\" alt=\"Open In Colab\"/></a>"
      ]
    },
    {
      "cell_type": "code",
      "source": [
        "'''\n",
        "8. Um desenvolvedor de software para uma estação meteorológica tem que fazer a leitura das seguintes variáveis,\n",
        "para o dia corrente e dar previsões para o dia seguinte, conforme as condições:\n",
        "- variáveis:\n",
        "→ Temperatura;\n",
        "→ Umidade Relativa do Ar;\n",
        "\n",
        "- condições:\n",
        "Se (Temperatura  28oC e Umidade Relativa do Ar  50%)\n",
        "Previsão: “irá chover amanhã”;\n",
        "Senão\n",
        "Previsão: “amanhã o dia será sem chuvas”;\n",
        "- Escrever código em Python para ler as variáveis e mostrar os seus valores no console;\n",
        "- Mostrar a previsão do tempo para o dia seguinte, simulando algumas possibilidades.\n",
        "'''\n",
        "#Previsão\n",
        "\n",
        "temperatura=input('Digite a temperatura: ')\n",
        "umidade=input('Digite a umidade relativa do ar (%): ')\n",
        "\n",
        "if float(temperatura) >=28 and float(umidade) >= 50:\n",
        "  print('Previsão: irá chover amanhã')\n",
        "else:\n",
        "  print('Previsão: amanhã o dia será sem chuvas')\n",
        "\n",
        "\n",
        "\n"
      ],
      "metadata": {
        "colab": {
          "base_uri": "https://localhost:8080/"
        },
        "id": "pK3JHCGSDtd0",
        "outputId": "315854e2-54e3-4d6a-8f82-5a1482d01abe"
      },
      "execution_count": null,
      "outputs": [
        {
          "output_type": "stream",
          "name": "stdout",
          "text": [
            "Digite a temperatura: 30\n",
            "Digite a umidade relativa do ar (%): 50\n",
            "Previsão: irá chover amanhã\n"
          ]
        }
      ]
    },
    {
      "cell_type": "code",
      "source": [],
      "metadata": {
        "id": "KjhK4ZZbDtj0"
      },
      "execution_count": null,
      "outputs": []
    }
  ]
}