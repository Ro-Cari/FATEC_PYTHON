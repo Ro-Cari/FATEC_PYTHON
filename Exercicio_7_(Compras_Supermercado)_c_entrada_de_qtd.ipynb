{
  "nbformat": 4,
  "nbformat_minor": 0,
  "metadata": {
    "colab": {
      "provenance": [],
      "authorship_tag": "ABX9TyNsJm+VhXPJEDAbH9sQssqG",
      "include_colab_link": true
    },
    "kernelspec": {
      "name": "python3",
      "display_name": "Python 3"
    },
    "language_info": {
      "name": "python"
    }
  },
  "cells": [
    {
      "cell_type": "markdown",
      "metadata": {
        "id": "view-in-github",
        "colab_type": "text"
      },
      "source": [
        "<a href=\"https://colab.research.google.com/github/Ro-Cari/FATEC_Python/blob/main/Exercicio_7_(Compras_Supermercado)_c_entrada_de_qtd.ipynb\" target=\"_parent\"><img src=\"https://colab.research.google.com/assets/colab-badge.svg\" alt=\"Open In Colab\"/></a>"
      ]
    },
    {
      "cell_type": "code",
      "execution_count": null,
      "metadata": {
        "colab": {
          "base_uri": "https://localhost:8080/"
        },
        "id": "6exscBFIGpXN",
        "outputId": "9f9babb8-0e15-4db6-bad6-97d209a51df4"
      },
      "outputs": [
        {
          "output_type": "stream",
          "name": "stdout",
          "text": [
            "VALORES DOS PRODUTOS\n",
            "\n",
            "Valor do Arroz (kg): 1\n",
            "Qtd do arroz (kg): 1\n",
            "\n",
            "Valor do feijão (kg): 1\n",
            "Qtd do feijão (kg): 1\n",
            "\n",
            "Valor da açucar (kg): 1\n",
            "Qtd da açucar (kg): 1\n",
            "\n",
            "Valor da batata (kg): 1\n",
            "Qtd da batata(kg): 1\n",
            "\n",
            "Valor do óleo (litro): 1\n",
            "Qtd do óleo (litro): 1\n",
            "\n",
            "Valor da bolacha de água e sal (pacote): 1\n",
            "Qtd da bolacha de água e sal (pacote): 1\n",
            "\n",
            "Valor da bolacha maizena: (pacote) 1\n",
            "Qtd da bolacha maizena (pacote): 1\n",
            "\n",
            "Valor da dúzia banana: 1\n",
            "Qtd da banana: 1\n",
            "\n",
            "Valor da couve flor (maço): 1\n",
            "Qtd da couve flor (maço): 1\n",
            "\n",
            "Valor do leite me pó (lata): 1\n",
            "Qtd do leite em pó (lata): 1\n",
            "\n",
            "COMPRAS DE SUPERMERCADO\n",
            "\n",
            "5 kilo de arroz:  1.0\n",
            "3 kilos de feijão:  1.0\n",
            "2 kilos de açucar:  1.0\n",
            "3 kilos de batata:  1.0\n",
            "5 litros de óleo:  1.0\n",
            "1 pacote de bolacha de água e sal:  1.0\n",
            "1 pacote de bolacha maizena:  1.0\n",
            "1 dúzia e meia de banana:  1.0\n",
            "2 maços de couve-flor:  1.0\n",
            "2 latas de leite em pó:  1.0\n",
            "\n",
            "Total da Compra:  10.0\n",
            "\n",
            "Pagamento em dinheiro.\n"
          ]
        }
      ],
      "source": [
        "print(\"VALORES DOS PRODUTOS\")\n",
        "arroz = float(input(\"\\nValor do Arroz (kg): \"))\n",
        "qtd_arroz =float(input(\"Qtd do arroz (kg): \"))\n",
        "\n",
        "feijao = float(input(\"\\nValor do feijão (kg): \"))\n",
        "qtd_feijao = float(input(\"Qtd do feijão (kg): \"))\n",
        "\n",
        "acucar = float(input(\"\\nValor da açucar (kg): \"))\n",
        "qtd_acucar = float(input(\"Qtd da açucar (kg): \"))\n",
        "\n",
        "batata = float(input(\"\\nValor da batata (kg): \"))\n",
        "qtd_batata = float(input(\"Qtd da batata(kg): \"))\n",
        "\n",
        "oleo = float(input(\"\\nValor do óleo (litro): \"))\n",
        "qtd_oleo = float(input(\"Qtd do óleo (litro): \"))\n",
        "\n",
        "bolacha_de_agua_e_sal = float(input(\"\\nValor da bolacha de água e sal (pacote): \"))\n",
        "qtd_bolacha_de_agua_e_sal = float(input(\"Qtd da bolacha de água e sal (pacote): \"))\n",
        "\n",
        "bolacha_maizena = float(input(\"\\nValor da bolacha maizena: (pacote) \"))\n",
        "qtd_bolacha_maizena = float(input(\"Qtd da bolacha maizena (pacote): \"))\n",
        "\n",
        "banana = float(input(\"\\nValor da dúzia banana: \"))\n",
        "qtd_banana = float(input(\"Qtd da banana: \"))\n",
        "\n",
        "couve_flor = float(input(\"\\nValor da couve flor (maço): \"))\n",
        "qtd_couve_flor = float(input(\"Qtd da couve flor (maço): \"))\n",
        "\n",
        "leite_em_po = float(input(\"\\nValor do leite me pó (lata): \"))\n",
        "qtd_leite_em_po = float(input(\"Qtd do leite em pó (lata): \"))\n",
        "print(\"\\nCOMPRAS DE SUPERMERCADO\")\n",
        "arroz = arroz * qtd_arroz\n",
        "print(\"\\n5 kilo de arroz: \",arroz)\n",
        "feijao = feijao * qtd_feijao \n",
        "print(\"3 kilos de feijão: \",feijao)\n",
        "acucar = acucar * qtd_acucar\n",
        "print(\"2 kilos de açucar: \",acucar)\n",
        "batata = batata * qtd_batata\n",
        "print(\"3 kilos de batata: \",batata)\n",
        "oleo = oleo * qtd_oleo\n",
        "print(\"5 litros de óleo: \",oleo)\n",
        "bolacha_de_agua_e_sal = bolacha_de_agua_e_sal * qtd_bolacha_de_agua_e_sal \n",
        "print(\"1 pacote de bolacha de água e sal: \", bolacha_de_agua_e_sal)\n",
        "bolacha_maizena = bolacha_maizena * qtd_bolacha_maizena\n",
        "print(\"1 pacote de bolacha maizena: \", bolacha_maizena)\n",
        "banana = banana * qtd_banana\n",
        "print(\"1 dúzia e meia de banana: \", banana)\n",
        "couve_flor = couve_flor * qtd_couve_flor\n",
        "print(\"2 maços de couve-flor: \", couve_flor)\n",
        "leite_em_po = leite_em_po * qtd_leite_em_po\n",
        "print(\"2 latas de leite em pó: \", leite_em_po)\n",
        "\n",
        "total_compra = (arroz + feijao + acucar + batata + oleo + bolacha_de_agua_e_sal + bolacha_maizena + banana + couve_flor + leite_em_po)\n",
        "\n",
        "print(\"\\nTotal da Compra: \", total_compra)\n",
        "\n",
        "if total_compra < 100:\n",
        "  print('\\nPagamento em dinheiro.')\n",
        "else:\n",
        "  print('\\nPagamento em parcelas com uso de cartão')"
      ]
    }
  ]
}