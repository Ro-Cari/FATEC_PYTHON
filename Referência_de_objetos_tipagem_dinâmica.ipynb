{
  "nbformat": 4,
  "nbformat_minor": 0,
  "metadata": {
    "colab": {
      "provenance": [],
      "authorship_tag": "ABX9TyO5Capi+kWuhMBCcQ3yGoCh",
      "include_colab_link": true
    },
    "kernelspec": {
      "name": "python3",
      "display_name": "Python 3"
    },
    "language_info": {
      "name": "python"
    }
  },
  "cells": [
    {
      "cell_type": "markdown",
      "metadata": {
        "id": "view-in-github",
        "colab_type": "text"
      },
      "source": [
        "<a href=\"https://colab.research.google.com/github/Ro-Cari/FATEC_Python/blob/main/Refer%C3%AAncia_de_objetos_tipagem_din%C3%A2mica.ipynb\" target=\"_parent\"><img src=\"https://colab.research.google.com/assets/colab-badge.svg\" alt=\"Open In Colab\"/></a>"
      ]
    },
    {
      "cell_type": "code",
      "execution_count": null,
      "metadata": {
        "colab": {
          "base_uri": "https://localhost:8080/"
        },
        "id": "AaYWIO4EJvaZ",
        "outputId": "040735d2-6dfe-4c93-cf76-395da9488606"
      },
      "outputs": [
        {
          "output_type": "stream",
          "name": "stdout",
          "text": [
            "Nome: Roberta  - Tipo de dados <class 'str'> \n",
            "\n",
            "Idade: XX  - Tipo de dados <class 'str'>\n",
            "Salário: 1.0  - Tipo de dados <class 'float'>\n",
            "Cargo: Roberta - Tipo de dados <class 'str'>\n"
          ]
        }
      ],
      "source": [
        "Nome = \"Roberta\"\n",
        "\n",
        "Idade = \"XX\"\n",
        "\n",
        "salario = 1.00000\n",
        "\n",
        "cargo = \"Ciêntista de Dados e Empresária\"\n",
        "\n",
        "print(\"Nome:\", Nome, \" - Tipo de dados\",type(Nome),\"\\n\")\n",
        "print(\"Idade:\", Idade, \" - Tipo de dados\",type(Idade))\n",
        "print(\"Salário:\", salario, \" - Tipo de dados\",type(salario))\n",
        "print(\"Cargo:\", Nome, \"- Tipo de dados\",type(função))"
      ]
    }
  ]
}